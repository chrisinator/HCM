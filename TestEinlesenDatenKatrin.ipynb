{
 "cells": [
  {
   "cell_type": "code",
   "execution_count": 5,
   "metadata": {},
   "outputs": [],
   "source": [
    "import pandas as pd"
   ]
  },
  {
   "cell_type": "code",
   "execution_count": 6,
   "metadata": {},
   "outputs": [],
   "source": [
    "# import eines sheets als test: DatenHCM1\n",
    "data1 = pd.read_excel('./DatenHCM.xls', sheet_name='Blatt 1')"
   ]
  },
  {
   "cell_type": "code",
   "execution_count": 7,
   "metadata": {},
   "outputs": [],
   "source": [
    "data2 = pd.read_excel('./DatenHCM.xls', sheet_name=\"Blatt 1_1\")"
   ]
  },
  {
   "cell_type": "code",
   "execution_count": 16,
   "metadata": {},
   "outputs": [],
   "source": [
    "data3 = pd.read_excel('./DatenHCM.xls', sheet_name=\"Blatt 1_2\")"
   ]
  },
  {
   "cell_type": "code",
   "execution_count": 17,
   "metadata": {},
   "outputs": [],
   "source": [
    "data4 = pd.read_excel('./DatenHCM.xls', sheet_name=\"Blatt 1_3\")"
   ]
  },
  {
   "cell_type": "code",
   "execution_count": 18,
   "metadata": {},
   "outputs": [],
   "source": [
    "data5 = pd.read_excel('./DatenHCM.xls', sheet_name=\"Blatt 1_4\")"
   ]
  },
  {
   "cell_type": "code",
   "execution_count": 19,
   "metadata": {},
   "outputs": [
    {
     "name": "stdout",
     "output_type": "stream",
     "text": [
      "(65535, 29)\n",
      "(65535, 29)\n",
      "(65535, 29)\n",
      "(65535, 29)\n",
      "(25354, 29)\n"
     ]
    }
   ],
   "source": [
    "print(data1.shape)\n",
    "print(data2.shape)\n",
    "print(data3.shape)\n",
    "print(data4.shape)\n",
    "print(data5.shape)\n",
    "# 29 Spalten # mehrmals 65535 Obervationen und dann nochmal xxx observationen"
   ]
  },
  {
   "cell_type": "code",
   "execution_count": 20,
   "metadata": {},
   "outputs": [
    {
     "data": {
      "text/plain": [
       "(131070, 29)"
      ]
     },
     "execution_count": 20,
     "metadata": {},
     "output_type": "execute_result"
    }
   ],
   "source": [
    "# daten zusammenfügen\n",
    "data = pd.concat([data1,data2]) #,data3, data4, data5])\n",
    "data.shape"
   ]
  },
  {
   "cell_type": "code",
   "execution_count": 21,
   "metadata": {},
   "outputs": [
    {
     "data": {
      "text/html": [
       "<div>\n",
       "<style scoped>\n",
       "    .dataframe tbody tr th:only-of-type {\n",
       "        vertical-align: middle;\n",
       "    }\n",
       "\n",
       "    .dataframe tbody tr th {\n",
       "        vertical-align: top;\n",
       "    }\n",
       "\n",
       "    .dataframe thead th {\n",
       "        text-align: right;\n",
       "    }\n",
       "</style>\n",
       "<table border=\"1\" class=\"dataframe\">\n",
       "  <thead>\n",
       "    <tr style=\"text-align: right;\">\n",
       "      <th></th>\n",
       "      <th>Statusnummer</th>\n",
       "      <th>Einsatz Nummer</th>\n",
       "      <th>Erzeugungsdatum</th>\n",
       "      <th>Zielzeit</th>\n",
       "      <th>Schlagwort</th>\n",
       "      <th>Prioritaet</th>\n",
       "      <th>Blaulicht</th>\n",
       "      <th>Einsatz Typ</th>\n",
       "      <th>Einsatzmittel</th>\n",
       "      <th>Alarmiert</th>\n",
       "      <th>...</th>\n",
       "      <th>Eo Postleitzahl</th>\n",
       "      <th>Eo Ort</th>\n",
       "      <th>Eo Ortsteil</th>\n",
       "      <th>Eo Strasse</th>\n",
       "      <th>Eo Hausnummer</th>\n",
       "      <th>Zo Postleitzahl</th>\n",
       "      <th>Zo Ort</th>\n",
       "      <th>Zo Ortsteil</th>\n",
       "      <th>Zo Strasse</th>\n",
       "      <th>Zo Hausnummer</th>\n",
       "    </tr>\n",
       "  </thead>\n",
       "  <tbody>\n",
       "    <tr>\n",
       "      <th>0</th>\n",
       "      <td>5</td>\n",
       "      <td>R 5.2 170101 9</td>\n",
       "      <td>2017-01-01 00:09:20</td>\n",
       "      <td>NaT</td>\n",
       "      <td>5.2 Info Doppelmeldung</td>\n",
       "      <td>1.0</td>\n",
       "      <td>1</td>\n",
       "      <td>Rettungsdienst</td>\n",
       "      <td>5.2.6 LAU BRK Nürnberger Land 07/11-10-03</td>\n",
       "      <td>2017-01-01 00:12:14</td>\n",
       "      <td>...</td>\n",
       "      <td>91207</td>\n",
       "      <td>Lauf a d Pegnitz</td>\n",
       "      <td>Lauf a.d.Pegnitz - Lauf a d Pegnitz</td>\n",
       "      <td>Eschenauer Straße</td>\n",
       "      <td>NaN</td>\n",
       "      <td>NaN</td>\n",
       "      <td>-- Default ORT ---</td>\n",
       "      <td>NaN</td>\n",
       "      <td>5.2 Fehlfahrt</td>\n",
       "      <td>NaN</td>\n",
       "    </tr>\n",
       "    <tr>\n",
       "      <th>1</th>\n",
       "      <td>5</td>\n",
       "      <td>R 5.2 170101 9</td>\n",
       "      <td>2017-01-01 00:09:20</td>\n",
       "      <td>NaT</td>\n",
       "      <td>5.2 Info Doppelmeldung</td>\n",
       "      <td>1.0</td>\n",
       "      <td>1</td>\n",
       "      <td>Rettungsdienst</td>\n",
       "      <td>5.2.6 LAU BRK Nürnberger Land 75-76-02</td>\n",
       "      <td>2017-01-01 00:12:14</td>\n",
       "      <td>...</td>\n",
       "      <td>91207</td>\n",
       "      <td>Lauf a d Pegnitz</td>\n",
       "      <td>Lauf a.d.Pegnitz - Lauf a d Pegnitz</td>\n",
       "      <td>Eschenauer Straße</td>\n",
       "      <td>NaN</td>\n",
       "      <td>NaN</td>\n",
       "      <td>-- Default ORT ---</td>\n",
       "      <td>NaN</td>\n",
       "      <td>5.2 Fehlfahrt</td>\n",
       "      <td>NaN</td>\n",
       "    </tr>\n",
       "    <tr>\n",
       "      <th>2</th>\n",
       "      <td>5</td>\n",
       "      <td>R 5.2 170101 9</td>\n",
       "      <td>2017-01-01 00:09:20</td>\n",
       "      <td>NaT</td>\n",
       "      <td>5.2 Info Doppelmeldung</td>\n",
       "      <td>1.0</td>\n",
       "      <td>1</td>\n",
       "      <td>Rettungsdienst</td>\n",
       "      <td>5.2.6 LAU BRK Nürnberger Land 99-71-01</td>\n",
       "      <td>2017-01-01 00:12:14</td>\n",
       "      <td>...</td>\n",
       "      <td>91207</td>\n",
       "      <td>Lauf a d Pegnitz</td>\n",
       "      <td>Lauf a.d.Pegnitz - Lauf a d Pegnitz</td>\n",
       "      <td>Eschenauer Straße</td>\n",
       "      <td>NaN</td>\n",
       "      <td>NaN</td>\n",
       "      <td>-- Default ORT ---</td>\n",
       "      <td>NaN</td>\n",
       "      <td>5.2 Fehlfahrt</td>\n",
       "      <td>NaN</td>\n",
       "    </tr>\n",
       "    <tr>\n",
       "      <th>3</th>\n",
       "      <td>5</td>\n",
       "      <td>R 5.2 170101 9</td>\n",
       "      <td>2017-01-01 00:09:20</td>\n",
       "      <td>NaT</td>\n",
       "      <td>5.2 Info Doppelmeldung</td>\n",
       "      <td>1.0</td>\n",
       "      <td>1</td>\n",
       "      <td>Rettungsdienst</td>\n",
       "      <td>5.2.6 LAU BRK Nürnberger Land 75-71-02</td>\n",
       "      <td>2017-01-01 00:13:06</td>\n",
       "      <td>...</td>\n",
       "      <td>91207</td>\n",
       "      <td>Lauf a d Pegnitz</td>\n",
       "      <td>Lauf a.d.Pegnitz - Lauf a d Pegnitz</td>\n",
       "      <td>Eschenauer Straße</td>\n",
       "      <td>NaN</td>\n",
       "      <td>NaN</td>\n",
       "      <td>-- Default ORT ---</td>\n",
       "      <td>NaN</td>\n",
       "      <td>5.2 Fehlfahrt</td>\n",
       "      <td>NaN</td>\n",
       "    </tr>\n",
       "    <tr>\n",
       "      <th>4</th>\n",
       "      <td>5</td>\n",
       "      <td>R 5.2 170101 10</td>\n",
       "      <td>2017-01-01 00:09:24</td>\n",
       "      <td>NaT</td>\n",
       "      <td>Brand Rauchentwicklung</td>\n",
       "      <td>1.0</td>\n",
       "      <td>1</td>\n",
       "      <td>Rettungsdienst</td>\n",
       "      <td>5.2.3 FÜ-S BRK Fürth 07/48-10-01</td>\n",
       "      <td>2017-01-01 00:12:49</td>\n",
       "      <td>...</td>\n",
       "      <td>90762</td>\n",
       "      <td>Fürth Bay</td>\n",
       "      <td>Fürth - Fürth Bay</td>\n",
       "      <td>Dr.-Mack-Straße</td>\n",
       "      <td>54.0</td>\n",
       "      <td>NaN</td>\n",
       "      <td>-- Default ORT ---</td>\n",
       "      <td>NaN</td>\n",
       "      <td>5.2 Fehlfahrt</td>\n",
       "      <td>NaN</td>\n",
       "    </tr>\n",
       "  </tbody>\n",
       "</table>\n",
       "<p>5 rows × 29 columns</p>\n",
       "</div>"
      ],
      "text/plain": [
       "   Statusnummer   Einsatz Nummer     Erzeugungsdatum Zielzeit  \\\n",
       "0             5   R 5.2 170101 9 2017-01-01 00:09:20      NaT   \n",
       "1             5   R 5.2 170101 9 2017-01-01 00:09:20      NaT   \n",
       "2             5   R 5.2 170101 9 2017-01-01 00:09:20      NaT   \n",
       "3             5   R 5.2 170101 9 2017-01-01 00:09:20      NaT   \n",
       "4             5  R 5.2 170101 10 2017-01-01 00:09:24      NaT   \n",
       "\n",
       "               Schlagwort  Prioritaet  Blaulicht     Einsatz Typ  \\\n",
       "0  5.2 Info Doppelmeldung         1.0          1  Rettungsdienst   \n",
       "1  5.2 Info Doppelmeldung         1.0          1  Rettungsdienst   \n",
       "2  5.2 Info Doppelmeldung         1.0          1  Rettungsdienst   \n",
       "3  5.2 Info Doppelmeldung         1.0          1  Rettungsdienst   \n",
       "4  Brand Rauchentwicklung         1.0          1  Rettungsdienst   \n",
       "\n",
       "                               Einsatzmittel           Alarmiert  \\\n",
       "0  5.2.6 LAU BRK Nürnberger Land 07/11-10-03 2017-01-01 00:12:14   \n",
       "1     5.2.6 LAU BRK Nürnberger Land 75-76-02 2017-01-01 00:12:14   \n",
       "2     5.2.6 LAU BRK Nürnberger Land 99-71-01 2017-01-01 00:12:14   \n",
       "3     5.2.6 LAU BRK Nürnberger Land 75-71-02 2017-01-01 00:13:06   \n",
       "4           5.2.3 FÜ-S BRK Fürth 07/48-10-01 2017-01-01 00:12:49   \n",
       "\n",
       "       ...      Eo Postleitzahl            Eo Ort  \\\n",
       "0      ...                91207  Lauf a d Pegnitz   \n",
       "1      ...                91207  Lauf a d Pegnitz   \n",
       "2      ...                91207  Lauf a d Pegnitz   \n",
       "3      ...                91207  Lauf a d Pegnitz   \n",
       "4      ...                90762         Fürth Bay   \n",
       "\n",
       "                           Eo Ortsteil         Eo Strasse Eo Hausnummer  \\\n",
       "0  Lauf a.d.Pegnitz - Lauf a d Pegnitz  Eschenauer Straße           NaN   \n",
       "1  Lauf a.d.Pegnitz - Lauf a d Pegnitz  Eschenauer Straße           NaN   \n",
       "2  Lauf a.d.Pegnitz - Lauf a d Pegnitz  Eschenauer Straße           NaN   \n",
       "3  Lauf a.d.Pegnitz - Lauf a d Pegnitz  Eschenauer Straße           NaN   \n",
       "4                    Fürth - Fürth Bay    Dr.-Mack-Straße          54.0   \n",
       "\n",
       "  Zo Postleitzahl              Zo Ort  Zo Ortsteil     Zo Strasse  \\\n",
       "0             NaN  -- Default ORT ---          NaN  5.2 Fehlfahrt   \n",
       "1             NaN  -- Default ORT ---          NaN  5.2 Fehlfahrt   \n",
       "2             NaN  -- Default ORT ---          NaN  5.2 Fehlfahrt   \n",
       "3             NaN  -- Default ORT ---          NaN  5.2 Fehlfahrt   \n",
       "4             NaN  -- Default ORT ---          NaN  5.2 Fehlfahrt   \n",
       "\n",
       "  Zo Hausnummer  \n",
       "0           NaN  \n",
       "1           NaN  \n",
       "2           NaN  \n",
       "3           NaN  \n",
       "4           NaN  \n",
       "\n",
       "[5 rows x 29 columns]"
      ]
     },
     "execution_count": 21,
     "metadata": {},
     "output_type": "execute_result"
    }
   ],
   "source": [
    "data.head()"
   ]
  },
  {
   "cell_type": "code",
   "execution_count": 22,
   "metadata": {},
   "outputs": [
    {
     "data": {
      "text/plain": [
       "Index(['Statusnummer', 'Einsatz Nummer', 'Erzeugungsdatum', 'Zielzeit',\n",
       "       'Schlagwort', 'Prioritaet', 'Blaulicht', 'Einsatz Typ', 'Einsatzmittel',\n",
       "       'Alarmiert', 'Ausgerueckt', 'An Einsatzort', 'Patient Aufgenommen',\n",
       "       'An Zielort', 'Ab Zielort', 'Abgezogen', 'Eingerueckt',\n",
       "       'Einsatzort X Koord', 'Einsatzort Y Koord', 'Eo Postleitzahl', 'Eo Ort',\n",
       "       'Eo Ortsteil', 'Eo Strasse', 'Eo Hausnummer', 'Zo Postleitzahl',\n",
       "       'Zo Ort', 'Zo Ortsteil', 'Zo Strasse', 'Zo Hausnummer'],\n",
       "      dtype='object')"
      ]
     },
     "execution_count": 22,
     "metadata": {},
     "output_type": "execute_result"
    }
   ],
   "source": [
    "data.columns # Welche Spalten gibt es alles?"
   ]
  },
  {
   "cell_type": "code",
   "execution_count": 23,
   "metadata": {},
   "outputs": [],
   "source": [
    "# spalten selektieren: Einsatz Nummer?, Erzeugunsgdatum, Alarmiert, Eo Postleitzahl\n",
    "# nochmal in Unterlagen vom 22.11.2018 nachschauen, was mit Melanie abgesprochen war!\n",
    "\n",
    "data = data[['Einsatz Nummer', 'Einsatzmittel', 'Erzeugungsdatum', 'Alarmiert', 'Einsatzort X Koord', 'Einsatzort Y Koord', 'Eo Postleitzahl']]"
   ]
  },
  {
   "cell_type": "code",
   "execution_count": 25,
   "metadata": {},
   "outputs": [
    {
     "data": {
      "text/html": [
       "<div>\n",
       "<style scoped>\n",
       "    .dataframe tbody tr th:only-of-type {\n",
       "        vertical-align: middle;\n",
       "    }\n",
       "\n",
       "    .dataframe tbody tr th {\n",
       "        vertical-align: top;\n",
       "    }\n",
       "\n",
       "    .dataframe thead th {\n",
       "        text-align: right;\n",
       "    }\n",
       "</style>\n",
       "<table border=\"1\" class=\"dataframe\">\n",
       "  <thead>\n",
       "    <tr style=\"text-align: right;\">\n",
       "      <th></th>\n",
       "      <th>Einsatz Nummer</th>\n",
       "      <th>Einsatzmittel</th>\n",
       "      <th>Erzeugungsdatum</th>\n",
       "      <th>Alarmiert</th>\n",
       "      <th>Einsatzort X Koord</th>\n",
       "      <th>Einsatzort Y Koord</th>\n",
       "      <th>Eo Postleitzahl</th>\n",
       "    </tr>\n",
       "  </thead>\n",
       "  <tbody>\n",
       "    <tr>\n",
       "      <th>0</th>\n",
       "      <td>R 5.2 170101 9</td>\n",
       "      <td>5.2.6 LAU BRK Nürnberger Land 07/11-10-03</td>\n",
       "      <td>2017-01-01 00:09:20</td>\n",
       "      <td>2017-01-01 00:12:14</td>\n",
       "      <td>4447334.71</td>\n",
       "      <td>5485998.45</td>\n",
       "      <td>91207</td>\n",
       "    </tr>\n",
       "    <tr>\n",
       "      <th>1</th>\n",
       "      <td>R 5.2 170101 9</td>\n",
       "      <td>5.2.6 LAU BRK Nürnberger Land 75-76-02</td>\n",
       "      <td>2017-01-01 00:09:20</td>\n",
       "      <td>2017-01-01 00:12:14</td>\n",
       "      <td>4447334.71</td>\n",
       "      <td>5485998.45</td>\n",
       "      <td>91207</td>\n",
       "    </tr>\n",
       "    <tr>\n",
       "      <th>2</th>\n",
       "      <td>R 5.2 170101 9</td>\n",
       "      <td>5.2.6 LAU BRK Nürnberger Land 99-71-01</td>\n",
       "      <td>2017-01-01 00:09:20</td>\n",
       "      <td>2017-01-01 00:12:14</td>\n",
       "      <td>4447334.71</td>\n",
       "      <td>5485998.45</td>\n",
       "      <td>91207</td>\n",
       "    </tr>\n",
       "    <tr>\n",
       "      <th>3</th>\n",
       "      <td>R 5.2 170101 9</td>\n",
       "      <td>5.2.6 LAU BRK Nürnberger Land 75-71-02</td>\n",
       "      <td>2017-01-01 00:09:20</td>\n",
       "      <td>2017-01-01 00:13:06</td>\n",
       "      <td>4447334.71</td>\n",
       "      <td>5485998.45</td>\n",
       "      <td>91207</td>\n",
       "    </tr>\n",
       "    <tr>\n",
       "      <th>4</th>\n",
       "      <td>R 5.2 170101 10</td>\n",
       "      <td>5.2.3 FÜ-S BRK Fürth 07/48-10-01</td>\n",
       "      <td>2017-01-01 00:09:24</td>\n",
       "      <td>2017-01-01 00:12:49</td>\n",
       "      <td>4428079.38</td>\n",
       "      <td>5481867.46</td>\n",
       "      <td>90762</td>\n",
       "    </tr>\n",
       "  </tbody>\n",
       "</table>\n",
       "</div>"
      ],
      "text/plain": [
       "    Einsatz Nummer                              Einsatzmittel  \\\n",
       "0   R 5.2 170101 9  5.2.6 LAU BRK Nürnberger Land 07/11-10-03   \n",
       "1   R 5.2 170101 9     5.2.6 LAU BRK Nürnberger Land 75-76-02   \n",
       "2   R 5.2 170101 9     5.2.6 LAU BRK Nürnberger Land 99-71-01   \n",
       "3   R 5.2 170101 9     5.2.6 LAU BRK Nürnberger Land 75-71-02   \n",
       "4  R 5.2 170101 10           5.2.3 FÜ-S BRK Fürth 07/48-10-01   \n",
       "\n",
       "      Erzeugungsdatum           Alarmiert  Einsatzort X Koord  \\\n",
       "0 2017-01-01 00:09:20 2017-01-01 00:12:14          4447334.71   \n",
       "1 2017-01-01 00:09:20 2017-01-01 00:12:14          4447334.71   \n",
       "2 2017-01-01 00:09:20 2017-01-01 00:12:14          4447334.71   \n",
       "3 2017-01-01 00:09:20 2017-01-01 00:13:06          4447334.71   \n",
       "4 2017-01-01 00:09:24 2017-01-01 00:12:49          4428079.38   \n",
       "\n",
       "   Einsatzort Y Koord Eo Postleitzahl  \n",
       "0          5485998.45           91207  \n",
       "1          5485998.45           91207  \n",
       "2          5485998.45           91207  \n",
       "3          5485998.45           91207  \n",
       "4          5481867.46           90762  "
      ]
     },
     "execution_count": 25,
     "metadata": {},
     "output_type": "execute_result"
    }
   ],
   "source": [
    "data.head()"
   ]
  },
  {
   "cell_type": "code",
   "execution_count": null,
   "metadata": {},
   "outputs": [],
   "source": [
    "# einsatzmittel spalte: --> RTW oder KTW? mithilfe der anderen exceltabelle"
   ]
  },
  {
   "cell_type": "code",
   "execution_count": null,
   "metadata": {},
   "outputs": [],
   "source": [
    "# kann man informationen aus der spalte \"einsatz nummer\" erhalten? wenn nein, dann löschen"
   ]
  }
 ],
 "metadata": {
  "kernelspec": {
   "display_name": "Python 3",
   "language": "python",
   "name": "python3"
  }
 },
 "nbformat": 4,
 "nbformat_minor": 2
}
